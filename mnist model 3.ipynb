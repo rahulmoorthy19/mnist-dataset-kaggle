{
 "cells": [
  {
   "cell_type": "code",
   "execution_count": 1,
   "metadata": {},
   "outputs": [
    {
     "name": "stderr",
     "output_type": "stream",
     "text": [
      "/home/rahul/anaconda3/lib/python3.6/site-packages/h5py/__init__.py:36: FutureWarning: Conversion of the second argument of issubdtype from `float` to `np.floating` is deprecated. In future, it will be treated as `np.float64 == np.dtype(float).type`.\n",
      "  from ._conv import register_converters as _register_converters\n"
     ]
    }
   ],
   "source": [
    "import tensorflow as tf\n",
    "import numpy as np\n",
    "import matplotlib.pyplot as plt\n",
    "import pandas as pd\n",
    "import math"
   ]
  },
  {
   "cell_type": "code",
   "execution_count": 2,
   "metadata": {},
   "outputs": [],
   "source": [
    "X_train=pd.read_csv(\"/home/rahul/machine learning/mnist kaggle/train.csv\")"
   ]
  },
  {
   "cell_type": "code",
   "execution_count": 3,
   "metadata": {},
   "outputs": [],
   "source": [
    "images=X_train.iloc[:,1:].values\n",
    "images=images.astype(np.float)"
   ]
  },
  {
   "cell_type": "code",
   "execution_count": 4,
   "metadata": {},
   "outputs": [],
   "source": [
    "labels_flat = X_train.iloc[:,0].values.ravel()\n",
    "labels_count = np.unique(labels_flat).shape[0]"
   ]
  },
  {
   "cell_type": "code",
   "execution_count": 5,
   "metadata": {},
   "outputs": [],
   "source": [
    "def dense_to_one_hot(labels_dense, num_classes):\n",
    "    num_labels = labels_dense.shape[0]\n",
    "    index_offset = np.arange(num_labels) * num_classes\n",
    "    labels_one_hot = np.zeros((num_labels, num_classes))\n",
    "    labels_one_hot.flat[index_offset + labels_dense.ravel()] = 1\n",
    "    return labels_one_hot"
   ]
  },
  {
   "cell_type": "code",
   "execution_count": 6,
   "metadata": {},
   "outputs": [],
   "source": [
    "labels = dense_to_one_hot(labels_flat, labels_count)\n",
    "labels = labels.astype(np.uint8)"
   ]
  },
  {
   "cell_type": "code",
   "execution_count": 7,
   "metadata": {},
   "outputs": [],
   "source": [
    "images = np.multiply(images, 1.0 / 255.0)\n",
    "image_size = images.shape[1]\n",
    "image_width = image_height = np.ceil(np.sqrt(image_size)).astype(np.uint8)"
   ]
  },
  {
   "cell_type": "code",
   "execution_count": 8,
   "metadata": {},
   "outputs": [],
   "source": [
    "def create_placeholders(image_size,image_count):\n",
    "    X=tf.placeholder(shape=[None,image_size],dtype=np.float32)\n",
    "    Y=tf.placeholder(shape=[None,image_count],dtype=np.float32)\n",
    "    return X,Y"
   ]
  },
  {
   "cell_type": "code",
   "execution_count": 9,
   "metadata": {},
   "outputs": [],
   "source": [
    "def weights_initializer():\n",
    "    W1=tf.get_variable(\"W1\",[5,5,1,64],initializer=tf.contrib.layers.xavier_initializer())\n",
    "    W2=tf.get_variable(\"W2\",[5,5,64,128],initializer=tf.contrib.layers.xavier_initializer())\n",
    "    W3=tf.get_variable(\"W3\",[5,5,128,256],initializer=tf.contrib.layers.xavier_initializer())\n",
    "    W4=tf.get_variable(\"W4\",[3,3,256,256],initializer=tf.contrib.layers.xavier_initializer())\n",
    "    W5=tf.get_variable(\"W5\",[3,3,256,512],initializer=tf.contrib.layers.xavier_initializer())\n",
    "    W6=tf.get_variable(\"W6\",[3,3,512,512],initializer=tf.contrib.layers.xavier_initializer())\n",
    "    \n",
    "    parameters={\"W1\":W1,\n",
    "                \"W2\":W2,\n",
    "                \"W3\":W3,\n",
    "                \"W4\":W4,\n",
    "                \"W5\":W5,\n",
    "                \"W6\":W6\n",
    "               }\n",
    "    return parameters"
   ]
  },
  {
   "cell_type": "code",
   "execution_count": 10,
   "metadata": {},
   "outputs": [],
   "source": [
    "def forward_propagation(X,parameters):\n",
    "    X1=tf.reshape(X,[-1,28,28,1])\n",
    "    W1=parameters['W1']\n",
    "    W2=parameters['W2']\n",
    "    W3=parameters['W3']\n",
    "    W4=parameters['W4']\n",
    "    W5=parameters['W5']\n",
    "    W6=parameters['W6']\n",
    "    #1st layer convnet\n",
    "    P6=tf.pad(X1,[[0,0],[2,2],[2,2],[0,0]],\"CONSTANT\")\n",
    "    C1=tf.nn.conv2d(filter=W1,input=P6,padding=\"VALID\",strides=[1,1,1,1])\n",
    "    R1=tf.nn.relu(C1)\n",
    "    #2nd layer convnet\n",
    "    P1=tf.pad(R1,[[0,0],[2,2],[2,2],[0,0]],\"CONSTANT\")\n",
    "    C2=tf.nn.conv2d(filter=W2,input=P1,strides=[1,1,1,1],padding=\"VALID\")\n",
    "    R2=tf.nn.relu(C2)\n",
    "    M1=tf.nn.max_pool(R2,strides=[1,2,2,1],ksize=[1,1,1,1],padding=\"SAME\")\n",
    "    #3rd and 4rth layer convnet\n",
    "    P2=tf.pad(M1,[[0,0],[2,2],[2,2],[0,0]],\"CONSTANT\")\n",
    "    C3=tf.nn.conv2d(filter=W3,input=P2,strides=[1,1,1,1],padding=\"VALID\")\n",
    "    P3=tf.pad(C3,[[0,0],[1,1],[1,1],[0,0]],\"CONSTANT\")\n",
    "    C4=tf.nn.conv2d(filter=W4,input=P3,strides=[1,1,1,1],padding=\"VALID\")\n",
    "    R3=tf.nn.relu(C4)\n",
    "    M2=tf.nn.max_pool(R3,strides=[1,2,2,1],ksize=[1,1,1,1],padding=\"SAME\")\n",
    "    D1=tf.nn.dropout(M2,keep_prob=0.2)\n",
    "    #5th layer convnet\n",
    "    P4=tf.pad(D1,[[0,0],[1,1],[1,1],[0,0]],\"CONSTANT\")\n",
    "    C5=tf.nn.conv2d(strides=[1,1,1,1],input=P4,filter=W5,padding=\"VALID\")\n",
    "    R4=tf.nn.relu(C5)\n",
    "    D2=tf.nn.dropout(R4,keep_prob=0.2)\n",
    "    #6th layer convnet\n",
    "    P5=tf.pad(D2,[[0,0],[1,1],[1,1],[0,0]],\"CONSTANT\")\n",
    "    C6=tf.nn.conv2d(strides=[1,1,1,1],input=P5,padding=\"VALID\",filter=W6)\n",
    "    R5=tf.nn.relu(C6)\n",
    "    M3=tf.nn.max_pool(R5,strides=[1,2,2,1],ksize=[1,1,1,1],padding=\"SAME\")\n",
    "    D3=tf.nn.dropout(M3,keep_prob=0.5)\n",
    "    #fully connected layer 1\n",
    "    P3=tf.contrib.layers.flatten(D3)\n",
    "    FC1=tf.contrib.layers.fully_connected(P3,num_outputs=2048,activation_fn=tf.nn.relu)\n",
    "    #Fully connected layer 2\n",
    "    FC2=tf.contrib.layers.fully_connected(FC1,num_outputs=10,activation_fn=tf.nn.softmax)\n",
    "    return FC2"
   ]
  },
  {
   "cell_type": "code",
   "execution_count": 11,
   "metadata": {},
   "outputs": [],
   "source": [
    "def compute_cost(Z3,Y):\n",
    "    cost=tf.reduce_mean(tf.keras.backend.categorical_crossentropy(target=Y,output=Z3))\n",
    "    return cost"
   ]
  },
  {
   "cell_type": "code",
   "execution_count": 12,
   "metadata": {},
   "outputs": [],
   "source": [
    "def random_mini_batches(X, Y, mini_batch_size = 36, seed = 0):\n",
    "    \n",
    "    np.random.seed(seed)            \n",
    "    m = X.shape[1]                  \n",
    "    mini_batches = []\n",
    "        \n",
    "    permutation = list(np.random.permutation(m))\n",
    "    shuffled_X = X[permutation, :]\n",
    "    shuffled_Y = Y[permutation, :]\n",
    "    num_complete_minibatches = math.floor(m/mini_batch_size)  \n",
    "    for k in range(0, num_complete_minibatches):\n",
    "        mini_batch_X = shuffled_X[k * mini_batch_size:(k + 1) * mini_batch_size,:]\n",
    "        mini_batch_Y = shuffled_Y[k * mini_batch_size:(k + 1) * mini_batch_size,:]\n",
    "        mini_batch = (mini_batch_X, mini_batch_Y)\n",
    "        mini_batches.append(mini_batch)\n",
    "    if m % mini_batch_size != 0:\n",
    "        end = m - mini_batch_size * math.floor(m / mini_batch_size)\n",
    "        mini_batch_X = shuffled_X[num_complete_minibatches * mini_batch_size:,:]\n",
    "        mini_batch_Y = shuffled_Y[num_complete_minibatches * mini_batch_size:,:]\n",
    "        mini_batch = (mini_batch_X, mini_batch_Y)\n",
    "        mini_batches.append(mini_batch)\n",
    "    \n",
    "    return mini_batches"
   ]
  },
  {
   "cell_type": "code",
   "execution_count": 13,
   "metadata": {},
   "outputs": [],
   "source": [
    "def model(X_train,Y_train,learning_rate=0.001,batch_size=36,print_cost=True,epochs=100):\n",
    "    image_size=X_train.shape[1]\n",
    "    image_count=Y_train.shape[1]\n",
    "    m=X_train.shape[0]\n",
    "    costs=[]\n",
    "    X,Y=create_placeholders(image_size,image_count)\n",
    "    parameters=weights_initializer()\n",
    "    Z3=forward_propagation(X,parameters)\n",
    "    cost=compute_cost(Z3,Y)\n",
    "    optimizer=tf.train.AdamOptimizer(learning_rate=learning_rate).minimize(cost)\n",
    "    init=tf.global_variables_initializer()\n",
    "    with tf.Session() as sess:\n",
    "        sess.run(init)\n",
    "        for i in range(epochs):\n",
    "            minibatch_cost = 0.\n",
    "            num_minibatches = int(m / batch_size)\n",
    "            minibatches = random_mini_batches(X_train, Y_train, batch_size)\n",
    "            for minibatch in minibatches:\n",
    "                (minibatch_X, minibatch_Y) = minibatch\n",
    "                _ , temp_cost = sess.run([optimizer, cost], feed_dict={X:minibatch_X, Y:minibatch_Y})\n",
    "                \n",
    "                minibatch_cost += temp_cost / num_minibatches\n",
    "            if print_cost == True and i % 5 == 0:\n",
    "                print (\"Cost after epoch %i: %f\" % (i, minibatch_cost))\n",
    "            if print_cost == True and i % 1 == 0:\n",
    "                costs.append(minibatch_cost)\n",
    "\n",
    "        plt.plot(np.squeeze(costs))\n",
    "        plt.ylabel('cost')\n",
    "        plt.xlabel('iterations (per tens)')\n",
    "        plt.title(\"Learning rate =\" + str(learning_rate))\n",
    "        plt.show()\n",
    "        predict_op = tf.argmax(Z3, 1)\n",
    "        correct_prediction = tf.equal(predict_op, tf.argmax(Y, 1))\n",
    "        accuracy = tf.reduce_mean(tf.cast(correct_prediction, \"float\"))\n",
    "        print(accuracy)\n",
    "        train_accuracy = accuracy.eval({X: X_train, Y: Y_train})\n",
    "        print(\"Train Accuracy:\", train_accuracy)\n",
    "        test_images = pd.read_csv('/home/rahul/machine learning/mnist kaggle/test.csv').values\n",
    "        test_images = test_images.astype(np.float)\n",
    "        test_images = np.multiply(test_images, 1.0 / 255.0)\n",
    "        print('test_images({0[0]},{0[1]})'.format(test_images.shape))\n",
    "        predict=tf.argmax(Z3,1)\n",
    "        predicted_lables = np.zeros(test_images.shape[0])\n",
    "        for i in range(0,test_images.shape[0]//64):\n",
    "            predicted_lables[i*64 : (i+1)*64] = predict.eval(feed_dict={X: test_images[i*64 : (i+1)*64]})\n",
    "        np.savetxt('submission3.csv', \n",
    "        np.c_[range(1,len(test_images)+1),predicted_lables], \n",
    "        delimiter=',', \n",
    "        header = 'ImageId,Label', \n",
    "        comments = '', \n",
    "        fmt='%d')\n",
    "        return train_accuracy,parameters\n",
    "    "
   ]
  },
  {
   "cell_type": "code",
   "execution_count": null,
   "metadata": {},
   "outputs": [
    {
     "name": "stdout",
     "output_type": "stream",
     "text": [
      "Cost after epoch 0: 0.042839\n",
      "Cost after epoch 5: 0.008335\n",
      "Cost after epoch 10: 0.003693\n",
      "Cost after epoch 15: 0.003372\n",
      "Cost after epoch 20: 0.001814\n",
      "Cost after epoch 25: 0.002607\n",
      "Cost after epoch 30: 0.001812\n",
      "Cost after epoch 35: 0.000962\n",
      "Cost after epoch 40: 0.001874\n",
      "Cost after epoch 45: 0.001321\n",
      "Cost after epoch 50: 0.002291\n",
      "Cost after epoch 55: 0.002638\n",
      "Cost after epoch 60: 0.001481\n",
      "Cost after epoch 65: 0.004458\n",
      "Cost after epoch 70: 0.003803\n",
      "Cost after epoch 75: 0.003283\n",
      "Cost after epoch 80: 0.001869\n",
      "Cost after epoch 85: 0.002074\n",
      "Cost after epoch 90: 0.002102\n",
      "Cost after epoch 95: 0.014772\n"
     ]
    },
    {
     "data": {
      "image/png": "[encoded data removed]",
      "text/plain": [
       "<Figure size 432x288 with 1 Axes>"
      ]
     },
     "metadata": {},
     "output_type": "display_data"
    },
    {
     "name": "stdout",
     "output_type": "stream",
     "text": [
      "Tensor(\"Mean_1:0\", shape=(), dtype=float32)\n"
     ]
    }
   ],
   "source": [
    " _, parameters = model(images,labels)"
   ]
  },
  {
   "cell_type": "code",
   "execution_count": null,
   "metadata": {},
   "outputs": [],
   "source": []
  },
  {
   "cell_type": "code",
   "execution_count": null,
   "metadata": {},
   "outputs": [],
   "source": []
  }
 ],
 "metadata": {
  "kernelspec": {
   "display_name": "Python 3",
   "language": "python",
   "name": "python3"
  },
  "language_info": {
   "codemirror_mode": {
    "name": "ipython",
    "version": 3
   },
   "file_extension": ".py",
   "mimetype": "text/x-python",
   "name": "python",
   "nbconvert_exporter": "python",
   "pygments_lexer": "ipython3",
   "version": "3.6.4"
  }
 },
 "nbformat": 4,
 "nbformat_minor": 2
}
