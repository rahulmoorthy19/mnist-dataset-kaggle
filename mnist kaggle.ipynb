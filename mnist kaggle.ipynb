{
 "cells": [
  {
   "cell_type": "code",
   "execution_count": 1,
   "metadata": {},
   "outputs": [
    {
     "name": "stderr",
     "output_type": "stream",
     "text": [
      "/home/rahul/anaconda3/lib/python3.6/site-packages/h5py/__init__.py:36: FutureWarning: Conversion of the second argument of issubdtype from `float` to `np.floating` is deprecated. In future, it will be treated as `np.float64 == np.dtype(float).type`.\n",
      "  from ._conv import register_converters as _register_converters\n"
     ]
    }
   ],
   "source": [
    "import tensorflow as tf\n",
    "import numpy as np\n",
    "import matplotlib.pyplot as plt\n",
    "import pandas as pd\n",
    "import math"
   ]
  },
  {
   "cell_type": "code",
   "execution_count": 2,
   "metadata": {},
   "outputs": [],
   "source": [
    "X_train=pd.read_csv(\"/home/rahul/machine learning/mnist kaggle/train.csv\")"
   ]
  },
  {
   "cell_type": "code",
   "execution_count": 3,
   "metadata": {},
   "outputs": [],
   "source": [
    "images=X_train.iloc[:,1:].values\n",
    "images=images.astype(np.float)"
   ]
  },
  {
   "cell_type": "code",
   "execution_count": 4,
   "metadata": {},
   "outputs": [],
   "source": [
    "labels_flat = X_train.iloc[:,0].values.ravel()\n",
    "labels_count = np.unique(labels_flat).shape[0]"
   ]
  },
  {
   "cell_type": "code",
   "execution_count": 5,
   "metadata": {},
   "outputs": [],
   "source": [
    "def dense_to_one_hot(labels_dense, num_classes):\n",
    "    num_labels = labels_dense.shape[0]\n",
    "    index_offset = np.arange(num_labels) * num_classes\n",
    "    labels_one_hot = np.zeros((num_labels, num_classes))\n",
    "    labels_one_hot.flat[index_offset + labels_dense.ravel()] = 1\n",
    "    return labels_one_hot"
   ]
  },
  {
   "cell_type": "code",
   "execution_count": 6,
   "metadata": {},
   "outputs": [],
   "source": [
    "labels = dense_to_one_hot(labels_flat, labels_count)\n",
    "labels = labels.astype(np.uint8)"
   ]
  },
  {
   "cell_type": "code",
   "execution_count": 7,
   "metadata": {},
   "outputs": [],
   "source": [
    "images = np.multiply(images, 1.0 / 255.0)\n",
    "image_size = images.shape[1]\n",
    "image_width = image_height = np.ceil(np.sqrt(image_size)).astype(np.uint8)"
   ]
  },
  {
   "cell_type": "code",
   "execution_count": 8,
   "metadata": {},
   "outputs": [
    {
     "data": {
      "text/plain": [
       "(42000, 784)"
      ]
     },
     "execution_count": 8,
     "metadata": {},
     "output_type": "execute_result"
    }
   ],
   "source": [
    "images.shape"
   ]
  },
  {
   "cell_type": "code",
   "execution_count": 9,
   "metadata": {},
   "outputs": [],
   "source": [
    "def create_placeholders(image_size,image_count):\n",
    "    X=tf.placeholder(shape=[None,image_size],dtype=np.float32)\n",
    "    Y=tf.placeholder(shape=[None,image_count],dtype=np.float32)\n",
    "    return X,Y"
   ]
  },
  {
   "cell_type": "code",
   "execution_count": 10,
   "metadata": {},
   "outputs": [],
   "source": [
    "def weights_initializer():\n",
    "    W1=tf.get_variable(\"W1\",[4,4,1,8],initializer=tf.contrib.layers.xavier_initializer())\n",
    "    W2=tf.get_variable(\"W2\",[2,2,8,16],initializer=tf.contrib.layers.xavier_initializer())\n",
    "    parameters={\"W1\":W1,\n",
    "                \"W2\":W2}\n",
    "    return parameters"
   ]
  },
  {
   "cell_type": "code",
   "execution_count": 11,
   "metadata": {},
   "outputs": [],
   "source": [
    "\n",
    "\n",
    "def forward_propagation(X,parameters):\n",
    "    X1=tf.reshape(X,[-1,28,28,1])\n",
    "    W1=parameters['W1']\n",
    "    W2=parameters['W2']\n",
    "    Z1=tf.nn.conv2d(filter=W1,input=X1,padding=\"SAME\",strides=[1,1,1,1])\n",
    "    A1=tf.nn.relu(Z1)\n",
    "    P1=tf.nn.max_pool(A1,ksize=[1,8,8,1],strides=[1,8,8,1],padding=\"SAME\")\n",
    "    Z2=tf.nn.conv2d(filter=W2,input=P1,strides=[1,1,1,1],padding=\"SAME\")\n",
    "    A2=tf.nn.relu(Z2)\n",
    "    P2=tf.nn.max_pool(A1,ksize=[1,4,4,1],strides=[1,4,4,1],padding=\"SAME\")\n",
    "    P2=tf.contrib.layers.flatten(P2)\n",
    "    Z3=tf.contrib.layers.fully_connected(P2,num_outputs=10,activation_fn=None)\n",
    "    return Z3"
   ]
  },
  {
   "cell_type": "code",
   "execution_count": 12,
   "metadata": {},
   "outputs": [],
   "source": [
    "def compute_cost(Z3,Y):\n",
    "    cost=tf.reduce_mean(tf.nn.softmax_cross_entropy_with_logits(logits=Z3,labels=Y))\n",
    "    return cost"
   ]
  },
  {
   "cell_type": "code",
   "execution_count": 13,
   "metadata": {},
   "outputs": [],
   "source": [
    "def random_mini_batches(X, Y, mini_batch_size = 64, seed = 0):\n",
    "    \n",
    "    np.random.seed(seed)            \n",
    "    m = X.shape[1]                  \n",
    "    mini_batches = []\n",
    "        \n",
    "    permutation = list(np.random.permutation(m))\n",
    "    shuffled_X = X[permutation, :]\n",
    "    shuffled_Y = Y[permutation, :]\n",
    "    num_complete_minibatches = math.floor(m/mini_batch_size)  \n",
    "    for k in range(0, num_complete_minibatches):\n",
    "        mini_batch_X = shuffled_X[k * mini_batch_size:(k + 1) * mini_batch_size,:]\n",
    "        mini_batch_Y = shuffled_Y[k * mini_batch_size:(k + 1) * mini_batch_size,:]\n",
    "        mini_batch = (mini_batch_X, mini_batch_Y)\n",
    "        mini_batches.append(mini_batch)\n",
    "    if m % mini_batch_size != 0:\n",
    "        end = m - mini_batch_size * math.floor(m / mini_batch_size)\n",
    "        mini_batch_X = shuffled_X[num_complete_minibatches * mini_batch_size:,:]\n",
    "        mini_batch_Y = shuffled_Y[num_complete_minibatches * mini_batch_size:,:]\n",
    "        mini_batch = (mini_batch_X, mini_batch_Y)\n",
    "        mini_batches.append(mini_batch)\n",
    "    \n",
    "    return mini_batches\n"
   ]
  },
  {
   "cell_type": "code",
   "execution_count": 14,
   "metadata": {},
   "outputs": [],
   "source": [
    "def model(X_train,Y_train,learning_rate=0.009,batch_size=64,print_cost=True,epochs=200):\n",
    "    image_size=X_train.shape[1]\n",
    "    image_count=Y_train.shape[1]\n",
    "    m=X_train.shape[0]\n",
    "    costs=[]\n",
    "    X,Y=create_placeholders(image_size,image_count)\n",
    "    parameters=weights_initializer()\n",
    "    Z3=forward_propagation(X,parameters)\n",
    "    cost=compute_cost(Z3,Y)\n",
    "    optimizer=tf.train.AdamOptimizer(learning_rate=learning_rate).minimize(cost)\n",
    "    init=tf.global_variables_initializer()\n",
    "    with tf.Session() as sess:\n",
    "        sess.run(init)\n",
    "        for i in range(epochs):\n",
    "            minibatch_cost = 0.\n",
    "            num_minibatches = int(m / batch_size)\n",
    "            minibatches = random_mini_batches(X_train, Y_train, batch_size)\n",
    "            for minibatch in minibatches:\n",
    "                (minibatch_X, minibatch_Y) = minibatch\n",
    "                _ , temp_cost = sess.run([optimizer, cost], feed_dict={X:minibatch_X, Y:minibatch_Y})\n",
    "                \n",
    "                minibatch_cost += temp_cost / num_minibatches\n",
    "            if print_cost == True and i % 5 == 0:\n",
    "                print (\"Cost after epoch %i: %f\" % (i, minibatch_cost))\n",
    "            if print_cost == True and i % 1 == 0:\n",
    "                costs.append(minibatch_cost)\n",
    "\n",
    "        plt.plot(np.squeeze(costs))\n",
    "        plt.ylabel('cost')\n",
    "        plt.xlabel('iterations (per tens)')\n",
    "        plt.title(\"Learning rate =\" + str(learning_rate))\n",
    "        plt.show()\n",
    "        predict_op = tf.argmax(Z3, 1)\n",
    "        correct_prediction = tf.equal(predict_op, tf.argmax(Y, 1))\n",
    "        accuracy = tf.reduce_mean(tf.cast(correct_prediction, \"float\"))\n",
    "        print(accuracy)\n",
    "        train_accuracy = accuracy.eval({X: X_train, Y: Y_train})\n",
    "        print(\"Train Accuracy:\", train_accuracy)\n",
    "        test_images = pd.read_csv('/home/rahul/machine learning/mnist kaggle/test.csv').values\n",
    "        test_images = test_images.astype(np.float)\n",
    "        test_images = np.multiply(test_images, 1.0 / 255.0)\n",
    "        print('test_images({0[0]},{0[1]})'.format(test_images.shape))\n",
    "        predict=tf.argmax(Z3,1)\n",
    "        predicted_lables = np.zeros(test_images.shape[0])\n",
    "        for i in range(0,test_images.shape[0]//64):\n",
    "            predicted_lables[i*64 : (i+1)*64] = predict.eval(feed_dict={X: test_images[i*64 : (i+1)*64]})\n",
    "        np.savetxt('submission1.csv', \n",
    "        np.c_[range(1,len(test_images)+1),predicted_lables], \n",
    "        delimiter=',', \n",
    "        header = 'ImageId,Label', \n",
    "        comments = '', \n",
    "        fmt='%d')\n",
    "        return train_accuracy,parameters\n",
    "    "
   ]
  },
  {
   "cell_type": "code",
   "execution_count": 15,
   "metadata": {},
   "outputs": [
    {
     "name": "stdout",
     "output_type": "stream",
     "text": [
      "WARNING:tensorflow:From <ipython-input-12-379e6cc1862c>:2: softmax_cross_entropy_with_logits (from tensorflow.python.ops.nn_ops) is deprecated and will be removed in a future version.\n",
      "Instructions for updating:\n",
      "\n",
      "Future major versions of TensorFlow will allow gradients to flow\n",
      "into the labels input on backprop by default.\n",
      "\n",
      "See tf.nn.softmax_cross_entropy_with_logits_v2.\n",
      "\n",
      "Cost after epoch 0: 0.037223\n",
      "Cost after epoch 5: 0.003625\n",
      "Cost after epoch 10: 0.001159\n",
      "Cost after epoch 15: 0.000443\n",
      "Cost after epoch 20: 0.000225\n",
      "Cost after epoch 25: 0.000140\n",
      "Cost after epoch 30: 0.000096\n",
      "Cost after epoch 35: 0.000070\n",
      "Cost after epoch 40: 0.000053\n",
      "Cost after epoch 45: 0.000042\n",
      "Cost after epoch 50: 0.000034\n",
      "Cost after epoch 55: 0.000028\n",
      "Cost after epoch 60: 0.000024\n",
      "Cost after epoch 65: 0.000020\n",
      "Cost after epoch 70: 0.000017\n",
      "Cost after epoch 75: 0.000015\n",
      "Cost after epoch 80: 0.000013\n",
      "Cost after epoch 85: 0.000012\n",
      "Cost after epoch 90: 0.000011\n",
      "Cost after epoch 95: 0.000009\n",
      "Cost after epoch 100: 0.000009\n",
      "Cost after epoch 105: 0.000008\n",
      "Cost after epoch 110: 0.000007\n",
      "Cost after epoch 115: 0.000006\n",
      "Cost after epoch 120: 0.000006\n",
      "Cost after epoch 125: 0.000005\n",
      "Cost after epoch 130: 0.000005\n",
      "Cost after epoch 135: 0.000005\n",
      "Cost after epoch 140: 0.000004\n",
      "Cost after epoch 145: 0.000004\n",
      "Cost after epoch 150: 0.000004\n",
      "Cost after epoch 155: 0.000003\n",
      "Cost after epoch 160: 0.000003\n",
      "Cost after epoch 165: 0.000003\n",
      "Cost after epoch 170: 0.000003\n",
      "Cost after epoch 175: 0.000003\n",
      "Cost after epoch 180: 0.000002\n",
      "Cost after epoch 185: 0.000002\n",
      "Cost after epoch 190: 0.000002\n",
      "Cost after epoch 195: 0.000002\n"
     ]
    },
    {
     "data": {
      "image/png": "[encoded data removed]",
      "text/plain": [
       "<Figure size 432x288 with 1 Axes>"
      ]
     },
     "metadata": {},
     "output_type": "display_data"
    },
    {
     "name": "stdout",
     "output_type": "stream",
     "text": [
      "Tensor(\"Mean_1:0\", shape=(), dtype=float32)\n",
      "Train Accuracy: 0.9213333\n",
      "test_images(28000,784)\n"
     ]
    }
   ],
   "source": [
    " _, parameters = model(images,labels)"
   ]
  },
  {
   "cell_type": "code",
   "execution_count": null,
   "metadata": {},
   "outputs": [],
   "source": []
  },
  {
   "cell_type": "code",
   "execution_count": null,
   "metadata": {},
   "outputs": [],
   "source": []
  },
  {
   "cell_type": "code",
   "execution_count": null,
   "metadata": {},
   "outputs": [],
   "source": []
  },
  {
   "cell_type": "code",
   "execution_count": null,
   "metadata": {},
   "outputs": [],
   "source": []
  },
  {
   "cell_type": "code",
   "execution_count": null,
   "metadata": {},
   "outputs": [],
   "source": []
  },
  {
   "cell_type": "code",
   "execution_count": null,
   "metadata": {
    "collapsed": true
   },
   "outputs": [],
   "source": [
    "\n",
    "    "
   ]
  }
 ],
 "metadata": {
  "kernelspec": {
   "display_name": "Python 3",
   "language": "python",
   "name": "python3"
  },
  "language_info": {
   "codemirror_mode": {
    "name": "ipython",
    "version": 3
   },
   "file_extension": ".py",
   "mimetype": "text/x-python",
   "name": "python",
   "nbconvert_exporter": "python",
   "pygments_lexer": "ipython3",
   "version": "3.6.4"
  }
 },
 "nbformat": 4,
 "nbformat_minor": 2
}
